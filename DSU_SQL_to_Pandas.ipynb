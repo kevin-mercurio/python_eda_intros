{
 "cells": [
  {
   "cell_type": "markdown",
   "metadata": {},
   "source": [
    "# Reading in data to Pandas from a remote SQL Database"
   ]
  },
  {
   "cell_type": "markdown",
   "metadata": {},
   "source": [
    "### Pandas also has some modules to read in data from remote databases, such as SQL DBs you may have running in amazon AWS\n",
    "\n",
    "One such package is psycopg2, which allows connections\n",
    "Let's use it to connect to a DB of your choice. You may need to download the package via condas, if that's how you installed python (conda install -n <ENV_NAME> psycopg2)."
   ]
  },
  {
   "cell_type": "code",
   "execution_count": null,
   "metadata": {
    "collapsed": false
   },
   "outputs": [],
   "source": [
    "import psycopg2\n",
    "from pandas import read_sql"
   ]
  },
  {
   "cell_type": "code",
   "execution_count": null,
   "metadata": {
    "collapsed": true
   },
   "outputs": [],
   "source": [
    "# Enter in your configuration details\n",
    "# Best practice is to do set environment variables in your bash profile, then call them here at runtime\n",
    "\n",
    "import os\n",
    "\n",
    "DB_USER = os.environ.get('DB_USER', '')\n",
    "DB_NAME = os.environ.get('DB_NAME', '')\n",
    "DB_PWD  = os.environ.get('DB_PWD', '')\n",
    "DB_HOST = os.environ.get('DB_HOST', '')\n",
    "DB_PORT = os.environ.get('DB_PORT', '')\n",
    "\n",
    "config = { 'dbname': DB_NAME, \n",
    "           'user':DB_USER,\n",
    "           'pwd':DB_PWD,\n",
    "           'host':DB_HOST,\n",
    "           'port':DB_PORT\n",
    "         }\n"
   ]
  },
  {
   "cell_type": "code",
   "execution_count": null,
   "metadata": {
    "collapsed": false
   },
   "outputs": [],
   "source": [
    "print(config)"
   ]
  },
  {
   "cell_type": "markdown",
   "metadata": {},
   "source": [
    "### Step 1\n",
    "* If the above print statement shows '' for all parameters, you'll need to set your environment variables to a database you would like to connect to.\n",
    "* Find your bash profile, or, for now, hardcode these parameters\n",
    "* Ensure that running the print(config) statement returns the expected result before continuing"
   ]
  },
  {
   "cell_type": "code",
   "execution_count": null,
   "metadata": {
    "collapsed": true
   },
   "outputs": [],
   "source": []
  },
  {
   "cell_type": "code",
   "execution_count": null,
   "metadata": {
    "collapsed": true
   },
   "outputs": [],
   "source": [
    "def create_conn(*args,**kwargs):\n",
    "    # pass in your configuration parameters\n",
    "    config = kwargs['config']\n",
    "    try:\n",
    "        # attempt to read in the configuration data and connect to the remote db\n",
    "        con=psycopg2.connect(dbname=config['dbname'], host=config['host'], \n",
    "                              port=config['port'], user=config['user'], \n",
    "                              password=config['pwd'])\n",
    "        return con\n",
    "    except Exception as err:\n",
    "        print(err)"
   ]
  },
  {
   "cell_type": "code",
   "execution_count": null,
   "metadata": {
    "collapsed": true
   },
   "outputs": [],
   "source": [
    "# Make a connection\n",
    "con = create_conn(config=config)"
   ]
  },
  {
   "cell_type": "code",
   "execution_count": null,
   "metadata": {
    "collapsed": true
   },
   "outputs": [],
   "source": [
    "# Using the connection object `con` you can run SQL queries against the DB and return the result\n",
    "# as a dataframe\n",
    "\n",
    "df = read_sql(\"select lastname from users where likerock=True limit 1000\", con=con)"
   ]
  },
  {
   "cell_type": "markdown",
   "metadata": {},
   "source": [
    "### Step 2\n",
    "If you are allowed to have raw data on your local machine, write your own query to read in a small amount of data from your test database"
   ]
  },
  {
   "cell_type": "code",
   "execution_count": null,
   "metadata": {
    "collapsed": true
   },
   "outputs": [],
   "source": [
    "# To-do\n",
    "# df = read_sql(...)"
   ]
  },
  {
   "cell_type": "markdown",
   "metadata": {},
   "source": [
    "### Step 3\n",
    "Recreate one of your existing R or Excel workflows in Python"
   ]
  },
  {
   "cell_type": "code",
   "execution_count": null,
   "metadata": {
    "collapsed": true
   },
   "outputs": [],
   "source": []
  }
 ],
 "metadata": {
  "kernelspec": {
   "display_name": "Python [full_anaconda]",
   "language": "python",
   "name": "Python [full_anaconda]"
  },
  "language_info": {
   "codemirror_mode": {
    "name": "ipython",
    "version": 3
   },
   "file_extension": ".py",
   "mimetype": "text/x-python",
   "name": "python",
   "nbconvert_exporter": "python",
   "pygments_lexer": "ipython3",
   "version": "3.5.2"
  }
 },
 "nbformat": 4,
 "nbformat_minor": 0
}
